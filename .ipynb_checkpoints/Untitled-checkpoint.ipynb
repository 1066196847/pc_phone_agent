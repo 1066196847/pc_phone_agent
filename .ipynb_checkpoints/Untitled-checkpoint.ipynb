{
 "cells": [
  {
   "cell_type": "code",
   "execution_count": 1,
   "metadata": {},
   "outputs": [
    {
     "name": "stdout",
     "output_type": "stream",
     "text": [
      "3.12.6 (tags/v3.12.6:a4a2d2b, Sep  6 2024, 20:11:23) [MSC v.1940 64 bit (AMD64)]\n"
     ]
    }
   ],
   "source": [
    "import sys\n",
    "print(sys.version)"
   ]
  },
  {
   "cell_type": "code",
   "execution_count": 42,
   "metadata": {},
   "outputs": [],
   "source": [
    "import threading\n",
    "import tomllib\n",
    "from pathlib import Path\n",
    "from typing import Dict, List, Optional\n",
    "\n",
    "from pydantic import BaseModel, Field\n",
    "from enum import Enum\n",
    "from typing import Any, List, Literal, Optional, Union\n",
    "\n",
    "from pydantic import BaseModel, Field\n"
   ]
  },
  {
   "cell_type": "code",
   "execution_count": 3,
   "metadata": {},
   "outputs": [
    {
     "name": "stderr",
     "output_type": "stream",
     "text": [
      "<>:1: SyntaxWarning: invalid escape sequence '\\c'\n",
      "<>:1: SyntaxWarning: invalid escape sequence '\\c'\n",
      "C:\\Users\\zhou\\AppData\\Local\\Temp\\ipykernel_20788\\2922039471.py:1: SyntaxWarning: invalid escape sequence '\\c'\n",
      "  config_path = \"D:\\code2\\manus_agent\\config\\config.example.toml\"\n",
      "C:\\Users\\zhou\\AppData\\Local\\Temp\\ipykernel_20788\\2922039471.py:1: SyntaxWarning: invalid escape sequence '\\c'\n",
      "  config_path = \"D:\\code2\\manus_agent\\config\\config.example.toml\"\n"
     ]
    },
    {
     "ename": "AttributeError",
     "evalue": "'str' object has no attribute 'open'",
     "output_type": "error",
     "traceback": [
      "\u001b[31m---------------------------------------------------------------------------\u001b[39m",
      "\u001b[31mAttributeError\u001b[39m                            Traceback (most recent call last)",
      "\u001b[36mCell\u001b[39m\u001b[36m \u001b[39m\u001b[32mIn[3]\u001b[39m\u001b[32m, line 2\u001b[39m\n\u001b[32m      1\u001b[39m config_path = \u001b[33m\"\u001b[39m\u001b[33mD:\u001b[39m\u001b[33m\\\u001b[39m\u001b[33mcode2\u001b[39m\u001b[33m\\\u001b[39m\u001b[33mmanus_agent\u001b[39m\u001b[33m\\\u001b[39m\u001b[33mconfig\u001b[39m\u001b[33m\\\u001b[39m\u001b[33mconfig.example.toml\u001b[39m\u001b[33m\"\u001b[39m\n\u001b[32m----> \u001b[39m\u001b[32m2\u001b[39m \u001b[38;5;28;01mwith\u001b[39;00m \u001b[43mconfig_path\u001b[49m\u001b[43m.\u001b[49m\u001b[43mopen\u001b[49m(\u001b[33m\"\u001b[39m\u001b[33mrb\u001b[39m\u001b[33m\"\u001b[39m) \u001b[38;5;28;01mas\u001b[39;00m f:\n\u001b[32m      3\u001b[39m     raw_config = tomllib.load(f)\n",
      "\u001b[31mAttributeError\u001b[39m: 'str' object has no attribute 'open'"
     ]
    }
   ],
   "source": [
    "config_path = \"D:\\code2\\manus_agent\\config\\config.example.toml\"\n",
    "with config_path.open(\"rb\") as f:\n",
    "    raw_config = tomllib.load(f)"
   ]
  },
  {
   "cell_type": "code",
   "execution_count": 34,
   "metadata": {},
   "outputs": [
    {
     "name": "stdout",
     "output_type": "stream",
     "text": [
      "D:\\code2\\manus_agent <class 'pathlib.WindowsPath'>\n",
      "example_path= D:\\code2\\manus_agent\\config\\config.example.toml\n"
     ]
    },
    {
     "name": "stderr",
     "output_type": "stream",
     "text": [
      "<>:5: SyntaxWarning: invalid escape sequence '\\c'\n",
      "<>:5: SyntaxWarning: invalid escape sequence '\\c'\n",
      "C:\\Users\\zhou\\AppData\\Local\\Temp\\ipykernel_20788\\4245209654.py:5: SyntaxWarning: invalid escape sequence '\\c'\n",
      "  return Path(\"D:\\code2\\manus_agent\\cc\\bb\\aa\\config.py\").resolve().parent.parent\n"
     ]
    }
   ],
   "source": [
    "def get_project_root() -> Path:\n",
    "    \"\"\"Get the project root directory\"\"\"\n",
    "#     return Path(__file__).resolve().parent.parent\n",
    "#     return Path(\"D:\\code2\\manus_agent\\app\\config.py\").resolve().parent.parent\n",
    "    return Path(\"D:\\code2\\manus_agent\\cc\\bb\\aa\\config.py\").resolve().parent.parent\n",
    "root = get_project_root()\n",
    "print(root,type(root))\n",
    "\n",
    "example_path = root / \"config\" / \"config.example.toml\"\n",
    "print(\"example_path=\", example_path)"
   ]
  },
  {
   "cell_type": "code",
   "execution_count": 35,
   "metadata": {},
   "outputs": [
    {
     "data": {
      "text/plain": [
       "{'llm': {'model': 'claude-3-7-sonnet-20250219',\n",
       "  'base_url': 'https://api.anthropic.com/v1/',\n",
       "  'api_key': 'YOUR_API_KEY',\n",
       "  'max_tokens': 8192,\n",
       "  'temperature': 0.0,\n",
       "  'vision': {'model': 'claude-3-7-sonnet-2025021',\n",
       "   'base_url': 'https://api.anthropic.com/v1/',\n",
       "   'api_key': 'YOUR_API_KEY',\n",
       "   'max_tokens': 8192,\n",
       "   'temperature': 0.0}}}"
      ]
     },
     "execution_count": 35,
     "metadata": {},
     "output_type": "execute_result"
    }
   ],
   "source": [
    "config_path = example_path\n",
    "with config_path.open(\"rb\") as f:\n",
    "    raw_config = tomllib.load(f)\n",
    "raw_config"
   ]
  },
  {
   "cell_type": "code",
   "execution_count": 36,
   "metadata": {},
   "outputs": [
    {
     "data": {
      "text/plain": [
       "{'model': 'claude-3-7-sonnet-20250219',\n",
       " 'base_url': 'https://api.anthropic.com/v1/',\n",
       " 'api_key': 'YOUR_API_KEY',\n",
       " 'max_tokens': 8192,\n",
       " 'temperature': 0.0,\n",
       " 'vision': {'model': 'claude-3-7-sonnet-2025021',\n",
       "  'base_url': 'https://api.anthropic.com/v1/',\n",
       "  'api_key': 'YOUR_API_KEY',\n",
       "  'max_tokens': 8192,\n",
       "  'temperature': 0.0}}"
      ]
     },
     "execution_count": 36,
     "metadata": {},
     "output_type": "execute_result"
    }
   ],
   "source": [
    "base_llm = raw_config.get(\"llm\", {})\n",
    "base_llm"
   ]
  },
  {
   "cell_type": "code",
   "execution_count": 37,
   "metadata": {},
   "outputs": [
    {
     "data": {
      "text/plain": [
       "{'vision': {'model': 'claude-3-7-sonnet-2025021',\n",
       "  'base_url': 'https://api.anthropic.com/v1/',\n",
       "  'api_key': 'YOUR_API_KEY',\n",
       "  'max_tokens': 8192,\n",
       "  'temperature': 0.0}}"
      ]
     },
     "execution_count": 37,
     "metadata": {},
     "output_type": "execute_result"
    }
   ],
   "source": [
    "llm_overrides = {\n",
    "            k: v for k, v in raw_config.get(\"llm\", {}).items() if isinstance(v, dict)\n",
    "        }\n",
    "llm_overrides"
   ]
  },
  {
   "cell_type": "code",
   "execution_count": 38,
   "metadata": {},
   "outputs": [
    {
     "data": {
      "text/plain": [
       "{'model': 'claude-3-7-sonnet-20250219',\n",
       " 'base_url': 'https://api.anthropic.com/v1/',\n",
       " 'api_key': 'YOUR_API_KEY',\n",
       " 'max_tokens': 8192,\n",
       " 'max_input_tokens': None,\n",
       " 'temperature': 0.0,\n",
       " 'api_type': '',\n",
       " 'api_version': ''}"
      ]
     },
     "execution_count": 38,
     "metadata": {},
     "output_type": "execute_result"
    }
   ],
   "source": [
    "default_settings = {\n",
    "            \"model\": base_llm.get(\"model\"),\n",
    "            \"base_url\": base_llm.get(\"base_url\"),\n",
    "            \"api_key\": base_llm.get(\"api_key\"),\n",
    "            \"max_tokens\": base_llm.get(\"max_tokens\", 4096),\n",
    "            \"max_input_tokens\": base_llm.get(\"max_input_tokens\"),\n",
    "            \"temperature\": base_llm.get(\"temperature\", 1.0),\n",
    "            \"api_type\": base_llm.get(\"api_type\", \"\"),\n",
    "            \"api_version\": base_llm.get(\"api_version\", \"\"),\n",
    "        }\n",
    "default_settings"
   ]
  },
  {
   "cell_type": "code",
   "execution_count": 39,
   "metadata": {},
   "outputs": [
    {
     "data": {
      "text/plain": [
       "{'default': {'model': 'claude-3-7-sonnet-20250219',\n",
       "  'base_url': 'https://api.anthropic.com/v1/',\n",
       "  'api_key': 'YOUR_API_KEY',\n",
       "  'max_tokens': 8192,\n",
       "  'max_input_tokens': None,\n",
       "  'temperature': 0.0,\n",
       "  'api_type': '',\n",
       "  'api_version': ''},\n",
       " 'vision': {'model': 'claude-3-7-sonnet-2025021',\n",
       "  'base_url': 'https://api.anthropic.com/v1/',\n",
       "  'api_key': 'YOUR_API_KEY',\n",
       "  'max_tokens': 8192,\n",
       "  'max_input_tokens': None,\n",
       "  'temperature': 0.0,\n",
       "  'api_type': '',\n",
       "  'api_version': ''}}"
      ]
     },
     "execution_count": 39,
     "metadata": {},
     "output_type": "execute_result"
    }
   ],
   "source": [
    "a= {\n",
    "    \"default\": default_settings,\n",
    "    **{\n",
    "        name: {**default_settings, **override_config}\n",
    "        for name, override_config in llm_overrides.items()\n",
    "    },\n",
    "}\n",
    "a"
   ]
  },
  {
   "cell_type": "code",
   "execution_count": 33,
   "metadata": {},
   "outputs": [
    {
     "ename": "SyntaxError",
     "evalue": "invalid syntax (3269603551.py, line 1)",
     "output_type": "error",
     "traceback": [
      "  \u001b[36mCell\u001b[39m\u001b[36m \u001b[39m\u001b[32mIn[33]\u001b[39m\u001b[32m, line 1\u001b[39m\n\u001b[31m    \u001b[39m\u001b[31m**default_settings\u001b[39m\n    ^\n\u001b[31mSyntaxError\u001b[39m\u001b[31m:\u001b[39m invalid syntax\n"
     ]
    }
   ],
   "source": [
    "**default_settings"
   ]
  },
  {
   "cell_type": "code",
   "execution_count": 40,
   "metadata": {},
   "outputs": [
    {
     "ename": "RuntimeError",
     "evalue": "asyncio.run() cannot be called from a running event loop",
     "output_type": "error",
     "traceback": [
      "\u001b[31m---------------------------------------------------------------------------\u001b[39m",
      "\u001b[31mRuntimeError\u001b[39m                              Traceback (most recent call last)",
      "\u001b[36mCell\u001b[39m\u001b[36m \u001b[39m\u001b[32mIn[40]\u001b[39m\u001b[32m, line 14\u001b[39m\n\u001b[32m     11\u001b[39m     \u001b[38;5;28;01masync\u001b[39;00m \u001b[38;5;28;01mwith\u001b[39;00m async_resource_manager() \u001b[38;5;28;01mas\u001b[39;00m resource:\n\u001b[32m     12\u001b[39m         \u001b[38;5;28mprint\u001b[39m(\u001b[33mf\u001b[39m\u001b[33m\"\u001b[39m\u001b[33mUsing \u001b[39m\u001b[38;5;132;01m{\u001b[39;00mresource\u001b[38;5;132;01m}\u001b[39;00m\u001b[33m\"\u001b[39m)\n\u001b[32m---> \u001b[39m\u001b[32m14\u001b[39m \u001b[43masyncio\u001b[49m\u001b[43m.\u001b[49m\u001b[43mrun\u001b[49m\u001b[43m(\u001b[49m\u001b[43mmain\u001b[49m\u001b[43m(\u001b[49m\u001b[43m)\u001b[49m\u001b[43m)\u001b[49m\n",
      "\u001b[36mFile \u001b[39m\u001b[32mC:\\Python312\\Lib\\asyncio\\runners.py:190\u001b[39m, in \u001b[36mrun\u001b[39m\u001b[34m(main, debug, loop_factory)\u001b[39m\n\u001b[32m    161\u001b[39m \u001b[38;5;250m\u001b[39m\u001b[33;03m\"\"\"Execute the coroutine and return the result.\u001b[39;00m\n\u001b[32m    162\u001b[39m \n\u001b[32m    163\u001b[39m \u001b[33;03mThis function runs the passed coroutine, taking care of\u001b[39;00m\n\u001b[32m   (...)\u001b[39m\u001b[32m    186\u001b[39m \u001b[33;03m    asyncio.run(main())\u001b[39;00m\n\u001b[32m    187\u001b[39m \u001b[33;03m\"\"\"\u001b[39;00m\n\u001b[32m    188\u001b[39m \u001b[38;5;28;01mif\u001b[39;00m events._get_running_loop() \u001b[38;5;129;01mis\u001b[39;00m \u001b[38;5;129;01mnot\u001b[39;00m \u001b[38;5;28;01mNone\u001b[39;00m:\n\u001b[32m    189\u001b[39m     \u001b[38;5;66;03m# fail fast with short traceback\u001b[39;00m\n\u001b[32m--> \u001b[39m\u001b[32m190\u001b[39m     \u001b[38;5;28;01mraise\u001b[39;00m \u001b[38;5;167;01mRuntimeError\u001b[39;00m(\n\u001b[32m    191\u001b[39m         \u001b[33m\"\u001b[39m\u001b[33masyncio.run() cannot be called from a running event loop\u001b[39m\u001b[33m\"\u001b[39m)\n\u001b[32m    193\u001b[39m \u001b[38;5;28;01mwith\u001b[39;00m Runner(debug=debug, loop_factory=loop_factory) \u001b[38;5;28;01mas\u001b[39;00m runner:\n\u001b[32m    194\u001b[39m     \u001b[38;5;28;01mreturn\u001b[39;00m runner.run(main)\n",
      "\u001b[31mRuntimeError\u001b[39m: asyncio.run() cannot be called from a running event loop"
     ]
    }
   ],
   "source": [
    "from contextlib import asynccontextmanager\n",
    "import asyncio\n",
    "\n",
    "@asynccontextmanager\n",
    "async def async_resource_manager():\n",
    "    print(\"Acquiring resource\")\n",
    "    yield \"Resource\"\n",
    "    print(\"Releasing resource\")\n",
    "\n",
    "async def main():\n",
    "    async with async_resource_manager() as resource:\n",
    "        print(f\"Using {resource}\")\n",
    "\n",
    "asyncio.run(main())"
   ]
  },
  {
   "cell_type": "code",
   "execution_count": 43,
   "metadata": {},
   "outputs": [
    {
     "name": "stdout",
     "output_type": "stream",
     "text": [
      "ROLE_TYPE= typing.Literal['system', 'user', 'assistant', 'tool']\n"
     ]
    }
   ],
   "source": [
    "class Role(str, Enum):\n",
    "    \"\"\"Message role options\"\"\"\n",
    "\n",
    "    SYSTEM = \"system\"\n",
    "    USER = \"user\"\n",
    "    ASSISTANT = \"assistant\"\n",
    "    TOOL = \"tool\"\n",
    "\n",
    "\n",
    "ROLE_VALUES = tuple(role.value for role in Role)\n",
    "ROLE_TYPE = Literal[ROLE_VALUES]  # type: ignore\n",
    "print(\"ROLE_TYPE=\",ROLE_TYPE)"
   ]
  },
  {
   "cell_type": "code",
   "execution_count": 44,
   "metadata": {},
   "outputs": [
    {
     "data": {
      "text/plain": [
       "[5, 1, 2, 3]"
      ]
     },
     "execution_count": 44,
     "metadata": {},
     "output_type": "execute_result"
    }
   ],
   "source": [
    "[5] + [1,2,3]"
   ]
  },
  {
   "cell_type": "code",
   "execution_count": 46,
   "metadata": {},
   "outputs": [
    {
     "name": "stdout",
     "output_type": "stream",
     "text": [
      "1\n",
      "2\n",
      "3\n",
      "4\n"
     ]
    }
   ],
   "source": [
    "for i in iter([1,2,3,4]):\n",
    "    print(i)"
   ]
  },
  {
   "cell_type": "code",
   "execution_count": 5,
   "metadata": {
    "scrolled": true
   },
   "outputs": [
    {
     "name": "stdout",
     "output_type": "stream",
     "text": [
      "Defaulting to user installation because normal site-packages is not writeable\n",
      "Collecting duckduckgo_search\n",
      "  Downloading duckduckgo_search-7.5.3-py3-none-any.whl.metadata (17 kB)\n",
      "Collecting click>=8.1.8 (from duckduckgo_search)\n",
      "  Using cached click-8.1.8-py3-none-any.whl.metadata (2.3 kB)\n",
      "Collecting primp>=0.14.0 (from duckduckgo_search)\n",
      "  Downloading primp-0.14.0-cp38-abi3-win_amd64.whl.metadata (13 kB)\n",
      "Requirement already satisfied: lxml>=5.3.0 in c:\\users\\zhou\\appdata\\roaming\\python\\python312\\site-packages (from duckduckgo_search) (5.3.1)\n",
      "Requirement already satisfied: colorama in c:\\users\\zhou\\appdata\\roaming\\python\\python312\\site-packages (from click>=8.1.8->duckduckgo_search) (0.4.6)\n",
      "Downloading duckduckgo_search-7.5.3-py3-none-any.whl (20 kB)\n",
      "Using cached click-8.1.8-py3-none-any.whl (98 kB)\n",
      "Downloading primp-0.14.0-cp38-abi3-win_amd64.whl (3.1 MB)\n",
      "   ---------------------------------------- 0.0/3.1 MB ? eta -:--:--\n",
      "   ---------------------------------------- 0.0/3.1 MB ? eta -:--:--\n",
      "   --- ------------------------------------ 0.3/3.1 MB ? eta -:--:--\n",
      "   --- ------------------------------------ 0.3/3.1 MB ? eta -:--:--\n",
      "   ------ --------------------------------- 0.5/3.1 MB 670.4 kB/s eta 0:00:04\n",
      "   ------ --------------------------------- 0.5/3.1 MB 670.4 kB/s eta 0:00:04\n",
      "   ---------- ----------------------------- 0.8/3.1 MB 588.4 kB/s eta 0:00:05\n",
      "   ---------- ----------------------------- 0.8/3.1 MB 588.4 kB/s eta 0:00:05\n",
      "   ---------- ----------------------------- 0.8/3.1 MB 588.4 kB/s eta 0:00:05\n",
      "   ---------- ----------------------------- 0.8/3.1 MB 588.4 kB/s eta 0:00:05\n",
      "   ---------- ----------------------------- 0.8/3.1 MB 588.4 kB/s eta 0:00:05\n",
      "   ------------- -------------------------- 1.0/3.1 MB 423.0 kB/s eta 0:00:05\n",
      "   ------------- -------------------------- 1.0/3.1 MB 423.0 kB/s eta 0:00:05\n",
      "   ------------- -------------------------- 1.0/3.1 MB 423.0 kB/s eta 0:00:05\n",
      "   ------------- -------------------------- 1.0/3.1 MB 423.0 kB/s eta 0:00:05\n",
      "   ------------- -------------------------- 1.0/3.1 MB 423.0 kB/s eta 0:00:05\n",
      "   ------------- -------------------------- 1.0/3.1 MB 423.0 kB/s eta 0:00:05\n",
      "   ------------- -------------------------- 1.0/3.1 MB 423.0 kB/s eta 0:00:05\n",
      "   ---------------- ----------------------- 1.3/3.1 MB 319.6 kB/s eta 0:00:06\n",
      "   ---------------- ----------------------- 1.3/3.1 MB 319.6 kB/s eta 0:00:06\n",
      "   ---------------- ----------------------- 1.3/3.1 MB 319.6 kB/s eta 0:00:06\n",
      "   ---------------- ----------------------- 1.3/3.1 MB 319.6 kB/s eta 0:00:06\n",
      "   ---------------- ----------------------- 1.3/3.1 MB 319.6 kB/s eta 0:00:06\n",
      "   ---------------- ----------------------- 1.3/3.1 MB 319.6 kB/s eta 0:00:06\n",
      "   -------------------- ------------------- 1.6/3.1 MB 282.4 kB/s eta 0:00:06\n",
      "   -------------------- ------------------- 1.6/3.1 MB 282.4 kB/s eta 0:00:06\n",
      "   -------------------- ------------------- 1.6/3.1 MB 282.4 kB/s eta 0:00:06\n",
      "   -------------------- ------------------- 1.6/3.1 MB 282.4 kB/s eta 0:00:06\n",
      "   -------------------- ------------------- 1.6/3.1 MB 282.4 kB/s eta 0:00:06\n",
      "   -------------------- ------------------- 1.6/3.1 MB 282.4 kB/s eta 0:00:06\n",
      "   -------------------- ------------------- 1.6/3.1 MB 282.4 kB/s eta 0:00:06\n",
      "   ----------------------- ---------------- 1.8/3.1 MB 261.4 kB/s eta 0:00:06\n",
      "   ----------------------- ---------------- 1.8/3.1 MB 261.4 kB/s eta 0:00:06\n",
      "   ----------------------- ---------------- 1.8/3.1 MB 261.4 kB/s eta 0:00:06\n",
      "   ----------------------- ---------------- 1.8/3.1 MB 261.4 kB/s eta 0:00:06\n",
      "   ----------------------- ---------------- 1.8/3.1 MB 261.4 kB/s eta 0:00:06\n",
      "   ----------------------- ---------------- 1.8/3.1 MB 261.4 kB/s eta 0:00:06\n",
      "   ----------------------- ---------------- 1.8/3.1 MB 261.4 kB/s eta 0:00:06\n",
      "   ----------------------- ---------------- 1.8/3.1 MB 261.4 kB/s eta 0:00:06\n",
      "   ----------------------- ---------------- 1.8/3.1 MB 261.4 kB/s eta 0:00:06\n",
      "   ----------------------- ---------------- 1.8/3.1 MB 261.4 kB/s eta 0:00:06\n",
      "   ----------------------- ---------------- 1.8/3.1 MB 261.4 kB/s eta 0:00:06\n",
      "   -------------------------- ------------- 2.1/3.1 MB 220.3 kB/s eta 0:00:05\n",
      "   -------------------------- ------------- 2.1/3.1 MB 220.3 kB/s eta 0:00:05\n",
      "   -------------------------- ------------- 2.1/3.1 MB 220.3 kB/s eta 0:00:05\n",
      "   -------------------------- ------------- 2.1/3.1 MB 220.3 kB/s eta 0:00:05\n",
      "   -------------------------- ------------- 2.1/3.1 MB 220.3 kB/s eta 0:00:05\n",
      "   -------------------------- ------------- 2.1/3.1 MB 220.3 kB/s eta 0:00:05\n",
      "   -------------------------- ------------- 2.1/3.1 MB 220.3 kB/s eta 0:00:05\n",
      "   -------------------------- ------------- 2.1/3.1 MB 220.3 kB/s eta 0:00:05\n",
      "   -------------------------- ------------- 2.1/3.1 MB 220.3 kB/s eta 0:00:05\n",
      "   -------------------------- ------------- 2.1/3.1 MB 220.3 kB/s eta 0:00:05\n",
      "   ------------------------------ --------- 2.4/3.1 MB 201.8 kB/s eta 0:00:04\n",
      "   ------------------------------ --------- 2.4/3.1 MB 201.8 kB/s eta 0:00:04\n",
      "   ------------------------------ --------- 2.4/3.1 MB 201.8 kB/s eta 0:00:04\n",
      "   ------------------------------ --------- 2.4/3.1 MB 201.8 kB/s eta 0:00:04\n",
      "   ------------------------------ --------- 2.4/3.1 MB 201.8 kB/s eta 0:00:04\n",
      "   ------------------------------ --------- 2.4/3.1 MB 201.8 kB/s eta 0:00:04\n",
      "   ------------------------------ --------- 2.4/3.1 MB 201.8 kB/s eta 0:00:04\n",
      "   ------------------------------ --------- 2.4/3.1 MB 201.8 kB/s eta 0:00:04\n",
      "   ------------------------------ --------- 2.4/3.1 MB 201.8 kB/s eta 0:00:04\n",
      "   ------------------------------ --------- 2.4/3.1 MB 201.8 kB/s eta 0:00:04\n",
      "   ------------------------------ --------- 2.4/3.1 MB 201.8 kB/s eta 0:00:04\n",
      "   --------------------------------- ------ 2.6/3.1 MB 188.7 kB/s eta 0:00:03\n",
      "   --------------------------------- ------ 2.6/3.1 MB 188.7 kB/s eta 0:00:03\n",
      "   --------------------------------- ------ 2.6/3.1 MB 188.7 kB/s eta 0:00:03\n",
      "   --------------------------------- ------ 2.6/3.1 MB 188.7 kB/s eta 0:00:03\n",
      "   --------------------------------- ------ 2.6/3.1 MB 188.7 kB/s eta 0:00:03\n",
      "   --------------------------------- ------ 2.6/3.1 MB 188.7 kB/s eta 0:00:03\n",
      "   --------------------------------- ------ 2.6/3.1 MB 188.7 kB/s eta 0:00:03\n",
      "   --------------------------------- ------ 2.6/3.1 MB 188.7 kB/s eta 0:00:03\n",
      "   --------------------------------- ------ 2.6/3.1 MB 188.7 kB/s eta 0:00:03\n",
      "   ------------------------------------ --- 2.9/3.1 MB 180.6 kB/s eta 0:00:02\n",
      "   ------------------------------------ --- 2.9/3.1 MB 180.6 kB/s eta 0:00:02\n",
      "   ------------------------------------ --- 2.9/3.1 MB 180.6 kB/s eta 0:00:02\n",
      "   ------------------------------------ --- 2.9/3.1 MB 180.6 kB/s eta 0:00:02\n",
      "   ------------------------------------ --- 2.9/3.1 MB 180.6 kB/s eta 0:00:02\n",
      "   ------------------------------------ --- 2.9/3.1 MB 180.6 kB/s eta 0:00:02\n",
      "   ------------------------------------ --- 2.9/3.1 MB 180.6 kB/s eta 0:00:02\n",
      "   ------------------------------------ --- 2.9/3.1 MB 180.6 kB/s eta 0:00:02\n",
      "   ---------------------------------------- 3.1/3.1 MB 177.3 kB/s eta 0:00:00\n",
      "Installing collected packages: primp, click, duckduckgo_search\n",
      "Successfully installed click-8.1.8 duckduckgo_search-7.5.3 primp-0.14.0\n"
     ]
    },
    {
     "name": "stderr",
     "output_type": "stream",
     "text": [
      "  WARNING: The script ddgs.exe is installed in 'C:\\Users\\zhou\\AppData\\Roaming\\Python\\Python312\\Scripts' which is not on PATH.\n",
      "  Consider adding this directory to PATH or, if you prefer to suppress this warning, use --no-warn-script-location.\n",
      "\n",
      "[notice] A new release of pip is available: 24.2 -> 25.0.1\n",
      "[notice] To update, run: python.exe -m pip install --upgrade pip\n"
     ]
    }
   ],
   "source": [
    "# !pip install tiktoken\n",
    "# !pip install openai\n",
    "# !pip install tenacity\n",
    "# !pip install loguru\n",
    "# !pip install browser_use\n",
    "# !pip install baidusearch\n",
    "!pip install duckduckgo_search "
   ]
  },
  {
   "cell_type": "code",
   "execution_count": 4,
   "metadata": {},
   "outputs": [],
   "source": [
    "from app.llm import LLM\n",
    "from pydantic import BaseModel, Field, model_validator\n",
    "llm: LLM = Field(default_factory=LLM, description=\"Language model instance\")\n"
   ]
  },
  {
   "cell_type": "code",
   "execution_count": 12,
   "metadata": {},
   "outputs": [
    {
     "data": {
      "text/plain": [
       "FieldInfo(annotation=NoneType, required=False, default_factory=LLM, description='Language model instance')"
      ]
     },
     "execution_count": 12,
     "metadata": {},
     "output_type": "execute_result"
    }
   ],
   "source": [
    "llm"
   ]
  },
  {
   "cell_type": "code",
   "execution_count": 15,
   "metadata": {},
   "outputs": [
    {
     "name": "stdout",
     "output_type": "stream",
     "text": [
      "False\n",
      "False\n"
     ]
    }
   ],
   "source": [
    "print(llm is None)\n",
    "print(isinstance(llm, LLM))"
   ]
  },
  {
   "cell_type": "code",
   "execution_count": 17,
   "metadata": {},
   "outputs": [
    {
     "ename": "TypeError",
     "evalue": "Can't instantiate abstract class BaseAgent without an implementation for abstract method 'step'",
     "output_type": "error",
     "traceback": [
      "\u001b[31m---------------------------------------------------------------------------\u001b[39m",
      "\u001b[31mTypeError\u001b[39m                                 Traceback (most recent call last)",
      "\u001b[36mCell\u001b[39m\u001b[36m \u001b[39m\u001b[32mIn[17]\u001b[39m\u001b[32m, line 2\u001b[39m\n\u001b[32m      1\u001b[39m \u001b[38;5;28;01mfrom\u001b[39;00m\u001b[38;5;250m \u001b[39m\u001b[34;01mapp\u001b[39;00m\u001b[34;01m.\u001b[39;00m\u001b[34;01magent\u001b[39;00m\u001b[34;01m.\u001b[39;00m\u001b[34;01mbase\u001b[39;00m\u001b[38;5;250m \u001b[39m\u001b[38;5;28;01mimport\u001b[39;00m BaseAgent\n\u001b[32m----> \u001b[39m\u001b[32m2\u001b[39m a = \u001b[43mBaseAgent\u001b[49m\u001b[43m(\u001b[49m\u001b[43m)\u001b[49m\n",
      "\u001b[31mTypeError\u001b[39m: Can't instantiate abstract class BaseAgent without an implementation for abstract method 'step'"
     ]
    }
   ],
   "source": [
    "from app.agent.base import BaseAgent\n",
    "a = BaseAgent()\n"
   ]
  },
  {
   "cell_type": "code",
   "execution_count": 1,
   "metadata": {
    "scrolled": true
   },
   "outputs": [
    {
     "name": "stdout",
     "output_type": "stream",
     "text": [
      "WORKSPACE_ROOT= D:\\code2\\manus_agent\\workspace\n"
     ]
    }
   ],
   "source": [
    "from test_2 import BaseAgent\n",
    "a = BaseAgent()\n"
   ]
  },
  {
   "cell_type": "code",
   "execution_count": 2,
   "metadata": {},
   "outputs": [
    {
     "data": {
      "text/plain": [
       "BaseAgent(description=None, system_prompt=None, next_step_prompt=None, llm=<app.llm.LLM object at 0x00000147E4E76ED0>, memory=Memory(messages=[], max_messages=100), state=<AgentState.IDLE: 'IDLE'>, max_steps=10, current_step=0, duplicate_threshold=2)"
      ]
     },
     "execution_count": 2,
     "metadata": {},
     "output_type": "execute_result"
    }
   ],
   "source": [
    "a"
   ]
  },
  {
   "cell_type": "code",
   "execution_count": 5,
   "metadata": {},
   "outputs": [
    {
     "data": {
      "text/plain": [
       "True"
      ]
     },
     "execution_count": 5,
     "metadata": {},
     "output_type": "execute_result"
    }
   ],
   "source": [
    "isinstance(a.llm, LLM)"
   ]
  },
  {
   "cell_type": "code",
   "execution_count": null,
   "metadata": {},
   "outputs": [],
   "source": []
  }
 ],
 "metadata": {
  "kernelspec": {
   "display_name": "python_3_12_base",
   "language": "python",
   "name": "python_3_12_base"
  },
  "language_info": {
   "codemirror_mode": {
    "name": "ipython",
    "version": 3
   },
   "file_extension": ".py",
   "mimetype": "text/x-python",
   "name": "python",
   "nbconvert_exporter": "python",
   "pygments_lexer": "ipython3",
   "version": "3.12.6"
  }
 },
 "nbformat": 4,
 "nbformat_minor": 2
}
